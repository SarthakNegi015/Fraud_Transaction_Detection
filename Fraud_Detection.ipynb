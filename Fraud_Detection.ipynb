{
 "cells": [
  {
   "cell_type": "markdown",
   "id": "1bd33a91",
   "metadata": {},
   "source": [
    "# Data Dictionary\n",
    "<b>step</b>- maps a unit of time in the real world. In this case 1 step is 1 hour of time. Total steps 744 (30 days simulation).\n",
    "\n",
    "<b>type</b> - CASH-IN, CASH-OUT, DEBIT, PAYMENT and TRANSFER.\n",
    "\n",
    "<b>amount</b> - amount of the transaction in local currency.\n",
    "\n",
    "<b>nameOrig</b> - customer who started the transaction\n",
    "\n",
    "<b>oldbalanceOrg</b> - initial balance before the transaction\n",
    "\n",
    "<b>newbalanceOrig</b> - new balance after the transaction\n",
    "\n",
    "<b>nameDest</b> - customer who is the recipient of the transaction\n",
    "\n",
    "<b>oldbalanceDest</b> - initial balance recipient before the transaction. Note that there is not information for customers that start with M (Merchants).\n",
    "\n",
    "<b>newbalanceDest</b> - new balance recipient after the transaction. Note that there is not information for customers that start with M (Merchants).\n",
    "\n",
    "<b>isFraud</b> - This is the transactions made by the fraudulent agents inside the simulation. In this specific dataset the fraudulent behavior of the agents aims to profit by taking control or customers accounts and try to empty the funds by transferring to another account and then cashing out of the system.\n",
    "\n",
    "<b>isFlaggedFraud</b> - The business model aims to control massive transfers from one account to another and flags illegal attempts. An illegal attempt in this dataset is an attempt to transfer more than 200.000 in a single transaction."
   ]
  },
  {
   "cell_type": "markdown",
   "id": "7792d3ab",
   "metadata": {},
   "source": [
    "# Importing Required Libraries"
   ]
  },
  {
   "cell_type": "code",
   "execution_count": 1,
   "id": "f2542199",
   "metadata": {},
   "outputs": [],
   "source": [
    "import pandas as pd\n",
    "import numpy as np\n",
    "import seaborn as sns\n",
    "from sklearn.ensemble import RandomForestClassifier\n",
    "import matplotlib.pyplot as plt\n",
    "%matplotlib inline\n",
    "from imblearn.over_sampling import RandomOverSampler\n",
    "from sklearn.model_selection import train_test_split\n",
    "from sklearn.metrics import confusion_matrix\n",
    "from sklearn.metrics import classification_report"
   ]
  },
  {
   "cell_type": "markdown",
   "id": "d8d90c48",
   "metadata": {},
   "source": [
    "## Importing the Dataset"
   ]
  },
  {
   "cell_type": "code",
   "execution_count": 2,
   "id": "c6b3ddd6",
   "metadata": {},
   "outputs": [],
   "source": [
    "df=pd.read_csv('Fraud.csv')"
   ]
  },
  {
   "cell_type": "markdown",
   "id": "d79a3baa",
   "metadata": {},
   "source": [
    "## Exploratory Data Analysis"
   ]
  },
  {
   "cell_type": "code",
   "execution_count": 3,
   "id": "fc0f2d7b",
   "metadata": {},
   "outputs": [
    {
     "data": {
      "text/html": [
       "<div>\n",
       "<style scoped>\n",
       "    .dataframe tbody tr th:only-of-type {\n",
       "        vertical-align: middle;\n",
       "    }\n",
       "\n",
       "    .dataframe tbody tr th {\n",
       "        vertical-align: top;\n",
       "    }\n",
       "\n",
       "    .dataframe thead th {\n",
       "        text-align: right;\n",
       "    }\n",
       "</style>\n",
       "<table border=\"1\" class=\"dataframe\">\n",
       "  <thead>\n",
       "    <tr style=\"text-align: right;\">\n",
       "      <th></th>\n",
       "      <th>step</th>\n",
       "      <th>type</th>\n",
       "      <th>amount</th>\n",
       "      <th>nameOrig</th>\n",
       "      <th>oldbalanceOrg</th>\n",
       "      <th>newbalanceOrig</th>\n",
       "      <th>nameDest</th>\n",
       "      <th>oldbalanceDest</th>\n",
       "      <th>newbalanceDest</th>\n",
       "      <th>isFraud</th>\n",
       "      <th>isFlaggedFraud</th>\n",
       "    </tr>\n",
       "  </thead>\n",
       "  <tbody>\n",
       "    <tr>\n",
       "      <th>0</th>\n",
       "      <td>1</td>\n",
       "      <td>PAYMENT</td>\n",
       "      <td>9839.64</td>\n",
       "      <td>C1231006815</td>\n",
       "      <td>170136.0</td>\n",
       "      <td>160296.36</td>\n",
       "      <td>M1979787155</td>\n",
       "      <td>0.0</td>\n",
       "      <td>0.0</td>\n",
       "      <td>0</td>\n",
       "      <td>0</td>\n",
       "    </tr>\n",
       "    <tr>\n",
       "      <th>1</th>\n",
       "      <td>1</td>\n",
       "      <td>PAYMENT</td>\n",
       "      <td>1864.28</td>\n",
       "      <td>C1666544295</td>\n",
       "      <td>21249.0</td>\n",
       "      <td>19384.72</td>\n",
       "      <td>M2044282225</td>\n",
       "      <td>0.0</td>\n",
       "      <td>0.0</td>\n",
       "      <td>0</td>\n",
       "      <td>0</td>\n",
       "    </tr>\n",
       "    <tr>\n",
       "      <th>2</th>\n",
       "      <td>1</td>\n",
       "      <td>TRANSFER</td>\n",
       "      <td>181.00</td>\n",
       "      <td>C1305486145</td>\n",
       "      <td>181.0</td>\n",
       "      <td>0.00</td>\n",
       "      <td>C553264065</td>\n",
       "      <td>0.0</td>\n",
       "      <td>0.0</td>\n",
       "      <td>1</td>\n",
       "      <td>0</td>\n",
       "    </tr>\n",
       "    <tr>\n",
       "      <th>3</th>\n",
       "      <td>1</td>\n",
       "      <td>CASH_OUT</td>\n",
       "      <td>181.00</td>\n",
       "      <td>C840083671</td>\n",
       "      <td>181.0</td>\n",
       "      <td>0.00</td>\n",
       "      <td>C38997010</td>\n",
       "      <td>21182.0</td>\n",
       "      <td>0.0</td>\n",
       "      <td>1</td>\n",
       "      <td>0</td>\n",
       "    </tr>\n",
       "    <tr>\n",
       "      <th>4</th>\n",
       "      <td>1</td>\n",
       "      <td>PAYMENT</td>\n",
       "      <td>11668.14</td>\n",
       "      <td>C2048537720</td>\n",
       "      <td>41554.0</td>\n",
       "      <td>29885.86</td>\n",
       "      <td>M1230701703</td>\n",
       "      <td>0.0</td>\n",
       "      <td>0.0</td>\n",
       "      <td>0</td>\n",
       "      <td>0</td>\n",
       "    </tr>\n",
       "  </tbody>\n",
       "</table>\n",
       "</div>"
      ],
      "text/plain": [
       "   step      type    amount     nameOrig  oldbalanceOrg  newbalanceOrig  \\\n",
       "0     1   PAYMENT   9839.64  C1231006815       170136.0       160296.36   \n",
       "1     1   PAYMENT   1864.28  C1666544295        21249.0        19384.72   \n",
       "2     1  TRANSFER    181.00  C1305486145          181.0            0.00   \n",
       "3     1  CASH_OUT    181.00   C840083671          181.0            0.00   \n",
       "4     1   PAYMENT  11668.14  C2048537720        41554.0        29885.86   \n",
       "\n",
       "      nameDest  oldbalanceDest  newbalanceDest  isFraud  isFlaggedFraud  \n",
       "0  M1979787155             0.0             0.0        0               0  \n",
       "1  M2044282225             0.0             0.0        0               0  \n",
       "2   C553264065             0.0             0.0        1               0  \n",
       "3    C38997010         21182.0             0.0        1               0  \n",
       "4  M1230701703             0.0             0.0        0               0  "
      ]
     },
     "execution_count": 3,
     "metadata": {},
     "output_type": "execute_result"
    }
   ],
   "source": [
    "df.head()"
   ]
  },
  {
   "cell_type": "code",
   "execution_count": 4,
   "id": "aae12260",
   "metadata": {},
   "outputs": [
    {
     "data": {
      "text/plain": [
       "(6362620, 11)"
      ]
     },
     "execution_count": 4,
     "metadata": {},
     "output_type": "execute_result"
    }
   ],
   "source": [
    "df.shape"
   ]
  },
  {
   "cell_type": "code",
   "execution_count": 5,
   "id": "8544c63f",
   "metadata": {},
   "outputs": [
    {
     "name": "stdout",
     "output_type": "stream",
     "text": [
      "<class 'pandas.core.frame.DataFrame'>\n",
      "RangeIndex: 6362620 entries, 0 to 6362619\n",
      "Data columns (total 11 columns):\n",
      " #   Column          Dtype  \n",
      "---  ------          -----  \n",
      " 0   step            int64  \n",
      " 1   type            object \n",
      " 2   amount          float64\n",
      " 3   nameOrig        object \n",
      " 4   oldbalanceOrg   float64\n",
      " 5   newbalanceOrig  float64\n",
      " 6   nameDest        object \n",
      " 7   oldbalanceDest  float64\n",
      " 8   newbalanceDest  float64\n",
      " 9   isFraud         int64  \n",
      " 10  isFlaggedFraud  int64  \n",
      "dtypes: float64(5), int64(3), object(3)\n",
      "memory usage: 534.0+ MB\n"
     ]
    }
   ],
   "source": [
    "df.info()"
   ]
  },
  {
   "cell_type": "markdown",
   "id": "36de19a4",
   "metadata": {},
   "source": [
    "### Handling the missing, duplicate values"
   ]
  },
  {
   "cell_type": "code",
   "execution_count": 6,
   "id": "3c8e6c9c",
   "metadata": {},
   "outputs": [
    {
     "data": {
      "text/plain": [
       "step              0\n",
       "type              0\n",
       "amount            0\n",
       "nameOrig          0\n",
       "oldbalanceOrg     0\n",
       "newbalanceOrig    0\n",
       "nameDest          0\n",
       "oldbalanceDest    0\n",
       "newbalanceDest    0\n",
       "isFraud           0\n",
       "isFlaggedFraud    0\n",
       "dtype: int64"
      ]
     },
     "execution_count": 6,
     "metadata": {},
     "output_type": "execute_result"
    }
   ],
   "source": [
    "df.isnull().sum()"
   ]
  },
  {
   "cell_type": "code",
   "execution_count": 7,
   "id": "b6ed123a",
   "metadata": {},
   "outputs": [
    {
     "data": {
      "text/plain": [
       "0"
      ]
     },
     "execution_count": 7,
     "metadata": {},
     "output_type": "execute_result"
    }
   ],
   "source": [
    "df.duplicated().sum()"
   ]
  },
  {
   "cell_type": "markdown",
   "id": "67e2c6c5",
   "metadata": {},
   "source": [
    "<b>Observation:\n",
    "* Number of missing values= 0\n",
    "* Number of duplicate values= 0\n",
    "  \n",
    "<font color=red>Actions</font>:- since there are no missing or duplicate values. So, we don't need to handel them."
   ]
  },
  {
   "cell_type": "code",
   "execution_count": 8,
   "id": "d6aad83f",
   "metadata": {},
   "outputs": [
    {
     "data": {
      "text/html": [
       "<div>\n",
       "<style scoped>\n",
       "    .dataframe tbody tr th:only-of-type {\n",
       "        vertical-align: middle;\n",
       "    }\n",
       "\n",
       "    .dataframe tbody tr th {\n",
       "        vertical-align: top;\n",
       "    }\n",
       "\n",
       "    .dataframe thead th {\n",
       "        text-align: right;\n",
       "    }\n",
       "</style>\n",
       "<table border=\"1\" class=\"dataframe\">\n",
       "  <thead>\n",
       "    <tr style=\"text-align: right;\">\n",
       "      <th></th>\n",
       "      <th>step</th>\n",
       "      <th>amount</th>\n",
       "      <th>oldbalanceOrg</th>\n",
       "      <th>newbalanceOrig</th>\n",
       "      <th>oldbalanceDest</th>\n",
       "      <th>newbalanceDest</th>\n",
       "      <th>isFraud</th>\n",
       "      <th>isFlaggedFraud</th>\n",
       "    </tr>\n",
       "  </thead>\n",
       "  <tbody>\n",
       "    <tr>\n",
       "      <th>count</th>\n",
       "      <td>6.362620e+06</td>\n",
       "      <td>6.362620e+06</td>\n",
       "      <td>6.362620e+06</td>\n",
       "      <td>6.362620e+06</td>\n",
       "      <td>6.362620e+06</td>\n",
       "      <td>6.362620e+06</td>\n",
       "      <td>6.362620e+06</td>\n",
       "      <td>6.362620e+06</td>\n",
       "    </tr>\n",
       "    <tr>\n",
       "      <th>mean</th>\n",
       "      <td>2.433972e+02</td>\n",
       "      <td>1.798619e+05</td>\n",
       "      <td>8.338831e+05</td>\n",
       "      <td>8.551137e+05</td>\n",
       "      <td>1.100702e+06</td>\n",
       "      <td>1.224996e+06</td>\n",
       "      <td>1.290820e-03</td>\n",
       "      <td>2.514687e-06</td>\n",
       "    </tr>\n",
       "    <tr>\n",
       "      <th>std</th>\n",
       "      <td>1.423320e+02</td>\n",
       "      <td>6.038582e+05</td>\n",
       "      <td>2.888243e+06</td>\n",
       "      <td>2.924049e+06</td>\n",
       "      <td>3.399180e+06</td>\n",
       "      <td>3.674129e+06</td>\n",
       "      <td>3.590480e-02</td>\n",
       "      <td>1.585775e-03</td>\n",
       "    </tr>\n",
       "    <tr>\n",
       "      <th>min</th>\n",
       "      <td>1.000000e+00</td>\n",
       "      <td>0.000000e+00</td>\n",
       "      <td>0.000000e+00</td>\n",
       "      <td>0.000000e+00</td>\n",
       "      <td>0.000000e+00</td>\n",
       "      <td>0.000000e+00</td>\n",
       "      <td>0.000000e+00</td>\n",
       "      <td>0.000000e+00</td>\n",
       "    </tr>\n",
       "    <tr>\n",
       "      <th>25%</th>\n",
       "      <td>1.560000e+02</td>\n",
       "      <td>1.338957e+04</td>\n",
       "      <td>0.000000e+00</td>\n",
       "      <td>0.000000e+00</td>\n",
       "      <td>0.000000e+00</td>\n",
       "      <td>0.000000e+00</td>\n",
       "      <td>0.000000e+00</td>\n",
       "      <td>0.000000e+00</td>\n",
       "    </tr>\n",
       "    <tr>\n",
       "      <th>50%</th>\n",
       "      <td>2.390000e+02</td>\n",
       "      <td>7.487194e+04</td>\n",
       "      <td>1.420800e+04</td>\n",
       "      <td>0.000000e+00</td>\n",
       "      <td>1.327057e+05</td>\n",
       "      <td>2.146614e+05</td>\n",
       "      <td>0.000000e+00</td>\n",
       "      <td>0.000000e+00</td>\n",
       "    </tr>\n",
       "    <tr>\n",
       "      <th>75%</th>\n",
       "      <td>3.350000e+02</td>\n",
       "      <td>2.087215e+05</td>\n",
       "      <td>1.073152e+05</td>\n",
       "      <td>1.442584e+05</td>\n",
       "      <td>9.430367e+05</td>\n",
       "      <td>1.111909e+06</td>\n",
       "      <td>0.000000e+00</td>\n",
       "      <td>0.000000e+00</td>\n",
       "    </tr>\n",
       "    <tr>\n",
       "      <th>max</th>\n",
       "      <td>7.430000e+02</td>\n",
       "      <td>9.244552e+07</td>\n",
       "      <td>5.958504e+07</td>\n",
       "      <td>4.958504e+07</td>\n",
       "      <td>3.560159e+08</td>\n",
       "      <td>3.561793e+08</td>\n",
       "      <td>1.000000e+00</td>\n",
       "      <td>1.000000e+00</td>\n",
       "    </tr>\n",
       "  </tbody>\n",
       "</table>\n",
       "</div>"
      ],
      "text/plain": [
       "               step        amount  oldbalanceOrg  newbalanceOrig  \\\n",
       "count  6.362620e+06  6.362620e+06   6.362620e+06    6.362620e+06   \n",
       "mean   2.433972e+02  1.798619e+05   8.338831e+05    8.551137e+05   \n",
       "std    1.423320e+02  6.038582e+05   2.888243e+06    2.924049e+06   \n",
       "min    1.000000e+00  0.000000e+00   0.000000e+00    0.000000e+00   \n",
       "25%    1.560000e+02  1.338957e+04   0.000000e+00    0.000000e+00   \n",
       "50%    2.390000e+02  7.487194e+04   1.420800e+04    0.000000e+00   \n",
       "75%    3.350000e+02  2.087215e+05   1.073152e+05    1.442584e+05   \n",
       "max    7.430000e+02  9.244552e+07   5.958504e+07    4.958504e+07   \n",
       "\n",
       "       oldbalanceDest  newbalanceDest       isFraud  isFlaggedFraud  \n",
       "count    6.362620e+06    6.362620e+06  6.362620e+06    6.362620e+06  \n",
       "mean     1.100702e+06    1.224996e+06  1.290820e-03    2.514687e-06  \n",
       "std      3.399180e+06    3.674129e+06  3.590480e-02    1.585775e-03  \n",
       "min      0.000000e+00    0.000000e+00  0.000000e+00    0.000000e+00  \n",
       "25%      0.000000e+00    0.000000e+00  0.000000e+00    0.000000e+00  \n",
       "50%      1.327057e+05    2.146614e+05  0.000000e+00    0.000000e+00  \n",
       "75%      9.430367e+05    1.111909e+06  0.000000e+00    0.000000e+00  \n",
       "max      3.560159e+08    3.561793e+08  1.000000e+00    1.000000e+00  "
      ]
     },
     "execution_count": 8,
     "metadata": {},
     "output_type": "execute_result"
    }
   ],
   "source": [
    "df.describe()"
   ]
  },
  {
   "cell_type": "markdown",
   "id": "763e841a",
   "metadata": {},
   "source": [
    "### Creating Heatmaps for multi-collinearity"
   ]
  },
  {
   "cell_type": "code",
   "execution_count": 30,
   "id": "6da01f3e",
   "metadata": {},
   "outputs": [
    {
     "data": {
      "text/plain": [
       "isFraud           1.000000\n",
       "amount            0.076688\n",
       "isFlaggedFraud    0.044109\n",
       "step              0.031578\n",
       "oldbalanceOrg     0.010154\n",
       "newbalanceDest    0.000535\n",
       "oldbalanceDest   -0.005885\n",
       "newbalanceOrig   -0.008148\n",
       "Name: isFraud, dtype: float64"
      ]
     },
     "execution_count": 30,
     "metadata": {},
     "output_type": "execute_result"
    }
   ],
   "source": [
    "corr_mat=df.corr()\n",
    "corr_mat['isFraud'].sort_values(ascending=False)"
   ]
  },
  {
   "cell_type": "code",
   "execution_count": 18,
   "id": "aef10225",
   "metadata": {},
   "outputs": [
    {
     "data": {
      "text/plain": [
       "<AxesSubplot:>"
      ]
     },
     "execution_count": 18,
     "metadata": {},
     "output_type": "execute_result"
    },
    {
     "data": {
      "image/png": "[encoded data removed]",
      "text/plain": [
       "<Figure size 432x288 with 2 Axes>"
      ]
     },
     "metadata": {
      "needs_background": "light"
     },
     "output_type": "display_data"
    }
   ],
   "source": [
    "sns.heatmap(corr_mat,cmap=\"YlGnBu\", annot=True)"
   ]
  },
  {
   "cell_type": "markdown",
   "id": "65a44afc",
   "metadata": {},
   "source": [
    "<b>Observation:\n",
    "* The<b> <font color=blue>oldbalanceDest</font> </b>is highly correlated to <b><font color=blue>newbalanceDest</font></b>.\n",
    "* <b><font color=blue>isFraud </font></b>is has very less correlation to rest of the other independent variables.\n",
    "* <b><font color=blue>oldbalanceOrg</font></b> has high correlation with<b>  <font color=blue>newbalanceOrig</font></b>.\n"
   ]
  },
  {
   "cell_type": "markdown",
   "id": "5c8e1fb3",
   "metadata": {},
   "source": [
    "### Countplot for Fraud and Non Fraud transactions"
   ]
  },
  {
   "cell_type": "markdown",
   "id": "acbd3c74",
   "metadata": {},
   "source": [
    "#### isFraud:-"
   ]
  },
  {
   "cell_type": "code",
   "execution_count": 26,
   "id": "eaf547f2",
   "metadata": {},
   "outputs": [
    {
     "data": {
      "text/plain": [
       "0    6354407\n",
       "1       8213\n",
       "Name: isFraud, dtype: int64"
      ]
     },
     "execution_count": 26,
     "metadata": {},
     "output_type": "execute_result"
    }
   ],
   "source": [
    "df['isFraud'].value_counts()"
   ]
  },
  {
   "cell_type": "code",
   "execution_count": 24,
   "id": "ccaf3c1a",
   "metadata": {},
   "outputs": [
    {
     "data": {
      "image/png": "[encoded data removed]",
      "text/plain": [
       "<Figure size 864x576 with 1 Axes>"
      ]
     },
     "metadata": {
      "needs_background": "light"
     },
     "output_type": "display_data"
    }
   ],
   "source": [
    "plt.figure(figsize=(12,8))\n",
    "ax = sns.countplot(x=\"isFraud\", data=df)\n",
    "plt.title('Distribution of Truck Configurations')\n",
    "plt.xlabel('Fraud')\n",
    "plt.ylabel('Fraud Count')\n",
    "\n",
    "for p in ax.patches:\n",
    "        ax.annotate('{:.1f}'.format(p.get_height()), (p.get_x()+0.1, p.get_height()+50))"
   ]
  },
  {
   "cell_type": "markdown",
   "id": "2e0c10cc",
   "metadata": {},
   "source": [
    "<b>Observation:-\n",
    "* This dataset is highly imbalanced\n",
    "* Total count of Non-Fraud transaction is<b> <font color=green> 6354407 </font>.\n",
    "* Total count of Fraud transactions is <b><font color=green> 8213</font>."
   ]
  },
  {
   "cell_type": "markdown",
   "id": "df640441",
   "metadata": {},
   "source": [
    "## Analysis for Fraud Transactions"
   ]
  },
  {
   "cell_type": "markdown",
   "id": "fa4b9b0a",
   "metadata": {},
   "source": [
    "#### type:-"
   ]
  },
  {
   "cell_type": "code",
   "execution_count": 29,
   "id": "96df4689",
   "metadata": {},
   "outputs": [
    {
     "data": {
      "text/plain": [
       "CASH_OUT    2237500\n",
       "PAYMENT     2151495\n",
       "CASH_IN     1399284\n",
       "TRANSFER     532909\n",
       "DEBIT         41432\n",
       "Name: type, dtype: int64"
      ]
     },
     "execution_count": 29,
     "metadata": {},
     "output_type": "execute_result"
    }
   ],
   "source": [
    "df.type.value_counts()"
   ]
  },
  {
   "cell_type": "code",
   "execution_count": 27,
   "id": "eed6269c",
   "metadata": {},
   "outputs": [
    {
     "data": {
      "image/png": "[encoded data removed]",
      "text/plain": [
       "<Figure size 432x288 with 1 Axes>"
      ]
     },
     "metadata": {},
     "output_type": "display_data"
    }
   ],
   "source": [
    "values=df['type'].value_counts().values\n",
    "label=df['type'].value_counts().index\n",
    "colors=['red','yellow','green','blue','orange']\n",
    "plt.pie(values,labels=label,colors=colors)\n",
    "plt.show()"
   ]
  },
  {
   "cell_type": "markdown",
   "id": "bad0b645",
   "metadata": {},
   "source": [
    "<b>Observation:\n",
    "\n",
    "* The CASH_OUT type transacions are the most recurring in <b>\"type\"</b>. Followed by <b>PAYMENT, then CASH_IN, TRANSFER and lastly DEBIT</b>.\n",
    "* The <b>DEBIT</b> type transaction is the least recurring transation in <b>\"type\"</b> column.\n",
    "* The transaction is splitted into 5 types.\n",
    "    * <font color=blue>CASH_OUT</font> =   <b>2237500\n",
    "    * <font color=blue>PAYMENT </font>  =  <b>2151495\n",
    "    * <font color=blue>CASH_IN </font>   = <b>1399284\n",
    "    * <font color=blue>TRANSFER</font>   = <b>532909\n",
    "    * <font color=blue>DEBIT   </font>   = <b>41432"
   ]
  },
  {
   "cell_type": "markdown",
   "id": "961672f3",
   "metadata": {},
   "source": [
    "#### Identifying Fraud Transactions in \"type\" column"
   ]
  },
  {
   "cell_type": "code",
   "execution_count": 32,
   "id": "d428065d",
   "metadata": {},
   "outputs": [
    {
     "data": {
      "text/html": [
       "<div>\n",
       "<style scoped>\n",
       "    .dataframe tbody tr th:only-of-type {\n",
       "        vertical-align: middle;\n",
       "    }\n",
       "\n",
       "    .dataframe tbody tr th {\n",
       "        vertical-align: top;\n",
       "    }\n",
       "\n",
       "    .dataframe thead th {\n",
       "        text-align: right;\n",
       "    }\n",
       "</style>\n",
       "<table border=\"1\" class=\"dataframe\">\n",
       "  <thead>\n",
       "    <tr style=\"text-align: right;\">\n",
       "      <th>isFraud</th>\n",
       "      <th>0</th>\n",
       "      <th>1</th>\n",
       "    </tr>\n",
       "    <tr>\n",
       "      <th>type</th>\n",
       "      <th></th>\n",
       "      <th></th>\n",
       "    </tr>\n",
       "  </thead>\n",
       "  <tbody>\n",
       "    <tr>\n",
       "      <th>CASH_IN</th>\n",
       "      <td>1399284</td>\n",
       "      <td>0</td>\n",
       "    </tr>\n",
       "    <tr>\n",
       "      <th>CASH_OUT</th>\n",
       "      <td>2233384</td>\n",
       "      <td>4116</td>\n",
       "    </tr>\n",
       "    <tr>\n",
       "      <th>DEBIT</th>\n",
       "      <td>41432</td>\n",
       "      <td>0</td>\n",
       "    </tr>\n",
       "    <tr>\n",
       "      <th>PAYMENT</th>\n",
       "      <td>2151495</td>\n",
       "      <td>0</td>\n",
       "    </tr>\n",
       "    <tr>\n",
       "      <th>TRANSFER</th>\n",
       "      <td>528812</td>\n",
       "      <td>4097</td>\n",
       "    </tr>\n",
       "  </tbody>\n",
       "</table>\n",
       "</div>"
      ],
      "text/plain": [
       "isFraud         0     1\n",
       "type                   \n",
       "CASH_IN   1399284     0\n",
       "CASH_OUT  2233384  4116\n",
       "DEBIT       41432     0\n",
       "PAYMENT   2151495     0\n",
       "TRANSFER   528812  4097"
      ]
     },
     "execution_count": 32,
     "metadata": {},
     "output_type": "execute_result"
    }
   ],
   "source": [
    "pd.crosstab(df['type'],df['isFraud'])"
   ]
  },
  {
   "cell_type": "code",
   "execution_count": 37,
   "id": "f6a701b4",
   "metadata": {},
   "outputs": [
    {
     "name": "stderr",
     "output_type": "stream",
     "text": [
      "c:\\users\\sarth\\appdata\\local\\programs\\python\\python39\\lib\\site-packages\\seaborn\\_decorators.py:36: FutureWarning: Pass the following variable as a keyword arg: x. From version 0.12, the only valid positional argument will be `data`, and passing other arguments without an explicit keyword will result in an error or misinterpretation.\n",
      "  warnings.warn(\n"
     ]
    },
    {
     "data": {
      "image/png": "[encoded data removed]",
      "text/plain": [
       "<Figure size 432x288 with 1 Axes>"
      ]
     },
     "metadata": {
      "needs_background": "light"
     },
     "output_type": "display_data"
    }
   ],
   "source": [
    "ax=sns.countplot(\"type\",data=df[(df['isFraud']==1)])\n",
    "plt.title('Fraud Distribution', fontsize=14)\n",
    "for p in ax.patches:\n",
    "    ax.annotate(str(format(int(p.get_height()), ',d')), (p.get_x(), p.get_height()))\n",
    "\n",
    "plt.show()"
   ]
  },
  {
   "cell_type": "markdown",
   "id": "1293f195",
   "metadata": {},
   "source": [
    "<b>Observation:-\n",
    "* Only <b>Cash_Out</b> and <b>Transfer</b> has Fraud transaction occurences.\n",
    "    * <b>Cash_Out</b> has <b><font color=red>4116</font></b> fraud transactions.\n",
    "    * <b>Transfer</b> has <b><font color=red>4097</font></b> fraud transactions."
   ]
  },
  {
   "cell_type": "markdown",
   "id": "37a640ea",
   "metadata": {},
   "source": [
    "#### isFlaggedFraud:-"
   ]
  },
  {
   "cell_type": "code",
   "execution_count": 31,
   "id": "060dcdeb",
   "metadata": {},
   "outputs": [
    {
     "data": {
      "text/plain": [
       "0    6362604\n",
       "1         16\n",
       "Name: isFlaggedFraud, dtype: int64"
      ]
     },
     "execution_count": 31,
     "metadata": {},
     "output_type": "execute_result"
    }
   ],
   "source": [
    "df.isFlaggedFraud.value_counts()"
   ]
  },
  {
   "cell_type": "code",
   "execution_count": 28,
   "id": "11ee7f13",
   "metadata": {},
   "outputs": [
    {
     "data": {
      "image/png": "[encoded data removed]",
      "text/plain": [
       "<Figure size 864x576 with 1 Axes>"
      ]
     },
     "metadata": {
      "needs_background": "light"
     },
     "output_type": "display_data"
    }
   ],
   "source": [
    "plt.figure(figsize=(12,8))\n",
    "ax = sns.countplot(x=\"isFlaggedFraud\", data=df)\n",
    "plt.title('Distribution of Truck Configurations')\n",
    "plt.xlabel('Flagged Fraud')\n",
    "plt.ylabel('Flagged Fraud Count')\n",
    "\n",
    "for p in ax.patches:\n",
    "        ax.annotate('{:.1f}'.format(p.get_height()), (p.get_x()+0.1, p.get_height()+50))"
   ]
  },
  {
   "cell_type": "markdown",
   "id": "20c5554f",
   "metadata": {},
   "source": [
    "<b> Observation:-\n",
    "* The total count for<b> Non-Flagged Fraud</b> Transactions is<b> <font color=green>6362604</font></b>.\n",
    "* The total count for <b>Flagged Fraud</b> Transactions have <b><font color=green>16</font></b>."
   ]
  },
  {
   "cell_type": "markdown",
   "id": "35e58532",
   "metadata": {},
   "source": [
    "#### Step:-"
   ]
  },
  {
   "cell_type": "code",
   "execution_count": 38,
   "id": "dd38672d",
   "metadata": {},
   "outputs": [],
   "source": [
    "fraud = df[df[\"isFraud\"] == 1]\n",
    "Notfraud = df[df[\"isFraud\"] == 0]"
   ]
  },
  {
   "cell_type": "markdown",
   "id": "8bd609bb",
   "metadata": {},
   "source": [
    "#### Non-Fraud Distribution"
   ]
  },
  {
   "cell_type": "code",
   "execution_count": 39,
   "id": "c550694b",
   "metadata": {},
   "outputs": [
    {
     "name": "stderr",
     "output_type": "stream",
     "text": [
      "C:\\Users\\sarth\\AppData\\Local\\Temp/ipykernel_1808/3499407305.py:1: SettingWithCopyWarning: \n",
      "A value is trying to be set on a copy of a slice from a DataFrame.\n",
      "Try using .loc[row_indexer,col_indexer] = value instead\n",
      "\n",
      "See the caveats in the documentation: https://pandas.pydata.org/pandas-docs/stable/user_guide/indexing.html#returning-a-view-versus-a-copy\n",
      "  Notfraud['transactionHour'] = Notfraud['step'] % 24\n",
      "C:\\Users\\sarth\\AppData\\Local\\Temp/ipykernel_1808/3499407305.py:2: SettingWithCopyWarning: \n",
      "A value is trying to be set on a copy of a slice from a DataFrame.\n",
      "Try using .loc[row_indexer,col_indexer] = value instead\n",
      "\n",
      "See the caveats in the documentation: https://pandas.pydata.org/pandas-docs/stable/user_guide/indexing.html#returning-a-view-versus-a-copy\n",
      "  fraud['transactionHour'] = fraud['step'] % 24\n"
     ]
    }
   ],
   "source": [
    "Notfraud['transactionHour'] = Notfraud['step'] % 24\n",
    "fraud['transactionHour'] = fraud['step'] % 24"
   ]
  },
  {
   "cell_type": "code",
   "execution_count": 41,
   "id": "9a86e98f",
   "metadata": {},
   "outputs": [
    {
     "data": {
      "text/plain": [
       "<AxesSubplot:xlabel='transactionHour', ylabel='Count'>"
      ]
     },
     "execution_count": 41,
     "metadata": {},
     "output_type": "execute_result"
    },
    {
     "data": {
      "image/png": "[encoded data removed]",
      "text/plain": [
       "<Figure size 432x288 with 1 Axes>"
      ]
     },
     "metadata": {},
     "output_type": "display_data"
    }
   ],
   "source": [
    "sns.histplot(data=Notfraud,x='transactionHour',bins=44)"
   ]
  },
  {
   "cell_type": "markdown",
   "id": "e653024e",
   "metadata": {},
   "source": [
    "#### Fraud Distribution"
   ]
  },
  {
   "cell_type": "code",
   "execution_count": 48,
   "id": "53fde6f9",
   "metadata": {},
   "outputs": [
    {
     "data": {
      "text/plain": [
       "<AxesSubplot:xlabel='transactionHour', ylabel='Count'>"
      ]
     },
     "execution_count": 48,
     "metadata": {},
     "output_type": "execute_result"
    },
    {
     "data": {
      "image/png": "[encoded data removed]",
      "text/plain": [
       "<Figure size 432x288 with 1 Axes>"
      ]
     },
     "metadata": {},
     "output_type": "display_data"
    }
   ],
   "source": [
    "sns.histplot(x='transactionHour',data=fraud)"
   ]
  },
  {
   "cell_type": "markdown",
   "id": "c457b3da",
   "metadata": {},
   "source": [
    "# Model Creation"
   ]
  },
  {
   "cell_type": "markdown",
   "id": "6673fc59",
   "metadata": {},
   "source": [
    "### Separating Dependent and Independent variables from the dataset."
   ]
  },
  {
   "cell_type": "markdown",
   "id": "64c1bf29",
   "metadata": {},
   "source": [
    "### Real Data"
   ]
  },
  {
   "cell_type": "markdown",
   "id": "b040bf7a",
   "metadata": {},
   "source": [
    "Taking necessary independent variables for training the model"
   ]
  },
  {
   "cell_type": "code",
   "execution_count": 49,
   "id": "8756e870",
   "metadata": {},
   "outputs": [],
   "source": [
    "indpendent=['amount','isFlaggedFraud','type']\n",
    "dependent=['isFraud']\n",
    "x_real=df[indpendent]\n",
    "y_real=df[dependent]"
   ]
  },
  {
   "cell_type": "markdown",
   "id": "3e6ad623",
   "metadata": {},
   "source": [
    "#### Converting \"type\" column from object to numeric categories for feeding the ML algorithm"
   ]
  },
  {
   "cell_type": "code",
   "execution_count": 52,
   "id": "673e0ee0",
   "metadata": {},
   "outputs": [
    {
     "name": "stderr",
     "output_type": "stream",
     "text": [
      "C:\\Users\\sarth\\AppData\\Local\\Temp/ipykernel_1808/495076221.py:1: SettingWithCopyWarning: \n",
      "A value is trying to be set on a copy of a slice from a DataFrame.\n",
      "Try using .loc[row_indexer,col_indexer] = value instead\n",
      "\n",
      "See the caveats in the documentation: https://pandas.pydata.org/pandas-docs/stable/user_guide/indexing.html#returning-a-view-versus-a-copy\n",
      "  x_real['type']=df['type'].map({'CASH_OUT':1, 'PAYMENT':2, 'CASH_IN':3, 'TRANSFER':4, 'DEBIT':5})\n"
     ]
    }
   ],
   "source": [
    "x_real['type']=df['type'].map({'CASH_OUT':1, 'PAYMENT':2, 'CASH_IN':3, 'TRANSFER':4, 'DEBIT':5})"
   ]
  },
  {
   "cell_type": "code",
   "execution_count": 54,
   "id": "7cfd2c9f",
   "metadata": {},
   "outputs": [
    {
     "name": "stdout",
     "output_type": "stream",
     "text": [
      "<class 'pandas.core.frame.DataFrame'>\n",
      "RangeIndex: 6362620 entries, 0 to 6362619\n",
      "Data columns (total 3 columns):\n",
      " #   Column          Dtype  \n",
      "---  ------          -----  \n",
      " 0   amount          float64\n",
      " 1   isFlaggedFraud  int64  \n",
      " 2   type            int64  \n",
      "dtypes: float64(1), int64(2)\n",
      "memory usage: 145.6 MB\n"
     ]
    }
   ],
   "source": [
    "x_real.info()"
   ]
  },
  {
   "cell_type": "code",
   "execution_count": 55,
   "id": "7eacfd2e",
   "metadata": {},
   "outputs": [
    {
     "name": "stdout",
     "output_type": "stream",
     "text": [
      "<class 'pandas.core.frame.DataFrame'>\n",
      "RangeIndex: 6362620 entries, 0 to 6362619\n",
      "Data columns (total 1 columns):\n",
      " #   Column   Dtype\n",
      "---  ------   -----\n",
      " 0   isFraud  int64\n",
      "dtypes: int64(1)\n",
      "memory usage: 48.5 MB\n"
     ]
    }
   ],
   "source": [
    "y_real.info()"
   ]
  },
  {
   "cell_type": "markdown",
   "id": "c1523277",
   "metadata": {},
   "source": [
    "## Creating a balance dataset using oversampling using Random OverSampler"
   ]
  },
  {
   "cell_type": "code",
   "execution_count": 56,
   "id": "c74e0b48",
   "metadata": {},
   "outputs": [],
   "source": [
    "ovr_sam=RandomOverSampler()\n",
    "x_res,y_res=ovr_sam.fit_resample(x_real,y_real)"
   ]
  },
  {
   "cell_type": "code",
   "execution_count": 57,
   "id": "92e2397e",
   "metadata": {},
   "outputs": [
    {
     "name": "stdout",
     "output_type": "stream",
     "text": [
      "<class 'pandas.core.frame.DataFrame'>\n",
      "RangeIndex: 12708814 entries, 0 to 12708813\n",
      "Data columns (total 3 columns):\n",
      " #   Column          Dtype  \n",
      "---  ------          -----  \n",
      " 0   amount          float64\n",
      " 1   isFlaggedFraud  int64  \n",
      " 2   type            int64  \n",
      "dtypes: float64(1), int64(2)\n",
      "memory usage: 290.9 MB\n"
     ]
    }
   ],
   "source": [
    "x_res.info()"
   ]
  },
  {
   "cell_type": "code",
   "execution_count": 58,
   "id": "5938f5ac",
   "metadata": {},
   "outputs": [
    {
     "name": "stdout",
     "output_type": "stream",
     "text": [
      "<class 'pandas.core.frame.DataFrame'>\n",
      "RangeIndex: 12708814 entries, 0 to 12708813\n",
      "Data columns (total 1 columns):\n",
      " #   Column   Dtype\n",
      "---  ------   -----\n",
      " 0   isFraud  int64\n",
      "dtypes: int64(1)\n",
      "memory usage: 97.0 MB\n"
     ]
    }
   ],
   "source": [
    "y_res.info()"
   ]
  },
  {
   "cell_type": "markdown",
   "id": "9373d64f",
   "metadata": {},
   "source": [
    "Checking the fraud and non fraud transaction in <b><font color=blue>y_res</font></b> data."
   ]
  },
  {
   "cell_type": "code",
   "execution_count": 59,
   "id": "dad386ea",
   "metadata": {},
   "outputs": [
    {
     "data": {
      "text/plain": [
       "0    6354407\n",
       "1    6354407\n",
       "Name: isFraud, dtype: int64"
      ]
     },
     "execution_count": 59,
     "metadata": {},
     "output_type": "execute_result"
    }
   ],
   "source": [
    "y_res.isFraud.value_counts()"
   ]
  },
  {
   "cell_type": "markdown",
   "id": "61b5d154",
   "metadata": {},
   "source": [
    "<b>Observation</b>\n",
    "* Now that the data is balanced. It is now easy to train the model without getting less accuracy."
   ]
  },
  {
   "cell_type": "markdown",
   "id": "6728f9b9",
   "metadata": {},
   "source": [
    "## Spliting the train and Test data"
   ]
  },
  {
   "cell_type": "code",
   "execution_count": 60,
   "id": "3200ce84",
   "metadata": {},
   "outputs": [],
   "source": [
    "x_train,x_test,y_train,y_test=train_test_split(x_res,y_res,train_size=0.1,random_state=42)"
   ]
  },
  {
   "cell_type": "code",
   "execution_count": 66,
   "id": "08e97f35",
   "metadata": {},
   "outputs": [
    {
     "data": {
      "text/plain": [
       "amount            1270881\n",
       "isFlaggedFraud    1270881\n",
       "type              1270881\n",
       "dtype: int64"
      ]
     },
     "execution_count": 66,
     "metadata": {},
     "output_type": "execute_result"
    }
   ],
   "source": [
    "x_train.count()"
   ]
  },
  {
   "cell_type": "code",
   "execution_count": 67,
   "id": "8c2749a6",
   "metadata": {},
   "outputs": [
    {
     "data": {
      "text/plain": [
       "isFraud    1270881\n",
       "dtype: int64"
      ]
     },
     "execution_count": 67,
     "metadata": {},
     "output_type": "execute_result"
    }
   ],
   "source": [
    "y_train.count()"
   ]
  },
  {
   "cell_type": "markdown",
   "id": "ee7d3d46",
   "metadata": {},
   "source": [
    "## Spliting the validation data from the training data"
   ]
  },
  {
   "cell_type": "code",
   "execution_count": 68,
   "id": "3ee0a970",
   "metadata": {},
   "outputs": [],
   "source": [
    "x_new_train,x_val,y_new_train,y_val=train_test_split(x_train,y_train,train_size=0.8,random_state=42)"
   ]
  },
  {
   "cell_type": "code",
   "execution_count": 69,
   "id": "a950bb09",
   "metadata": {},
   "outputs": [
    {
     "name": "stdout",
     "output_type": "stream",
     "text": [
      "The new x_train data= x_new_train\n",
      "The new y_train data= y_new_train\n",
      "__________________________________\n",
      "The x test data= x_test\n",
      "The y test data= y_test\n",
      "__________________________________\n",
      "The x_val data= x_val\n",
      "The y_val data= y_val\n",
      "___________________\n",
      "real x data= x_real\n",
      "real y data= y_real\n"
     ]
    }
   ],
   "source": [
    "print(\"The new x_train data= x_new_train\")\n",
    "print(\"The new y_train data= y_new_train\")\n",
    "print(\"__________________________________\")\n",
    "print(\"The x test data= x_test\")\n",
    "print(\"The y test data= y_test\")\n",
    "print(\"__________________________________\")\n",
    "print(\"The x_val data= x_val\")\n",
    "print(\"The y_val data= y_val\")\n",
    "print(\"___________________\")\n",
    "print(\"real x data= x_real\")\n",
    "print(\"real y data= y_real\")"
   ]
  },
  {
   "cell_type": "code",
   "execution_count": 70,
   "id": "d5aa2ea2",
   "metadata": {},
   "outputs": [
    {
     "data": {
      "text/plain": [
       "amount            254177\n",
       "isFlaggedFraud    254177\n",
       "type              254177\n",
       "dtype: int64"
      ]
     },
     "execution_count": 70,
     "metadata": {},
     "output_type": "execute_result"
    }
   ],
   "source": [
    "x_val.count()"
   ]
  },
  {
   "cell_type": "code",
   "execution_count": 71,
   "id": "822c833e",
   "metadata": {},
   "outputs": [
    {
     "data": {
      "text/plain": [
       "isFraud    254177\n",
       "dtype: int64"
      ]
     },
     "execution_count": 71,
     "metadata": {},
     "output_type": "execute_result"
    }
   ],
   "source": [
    "y_val.count()"
   ]
  },
  {
   "cell_type": "markdown",
   "id": "1c77fe2e",
   "metadata": {},
   "source": [
    "## Training the model"
   ]
  },
  {
   "cell_type": "markdown",
   "id": "b0eb018a",
   "metadata": {},
   "source": [
    "Using Random Forest Classifier for the fraud classification"
   ]
  },
  {
   "cell_type": "code",
   "execution_count": 72,
   "id": "ae53bcd5",
   "metadata": {},
   "outputs": [],
   "source": [
    "RF=RandomForestClassifier()"
   ]
  },
  {
   "cell_type": "code",
   "execution_count": 73,
   "id": "cdf4467e",
   "metadata": {},
   "outputs": [
    {
     "name": "stderr",
     "output_type": "stream",
     "text": [
      "C:\\Users\\sarth\\AppData\\Local\\Temp/ipykernel_1808/634286051.py:1: DataConversionWarning: A column-vector y was passed when a 1d array was expected. Please change the shape of y to (n_samples,), for example using ravel().\n",
      "  RF.fit(x_new_train,y_new_train)\n"
     ]
    },
    {
     "data": {
      "text/plain": [
       "RandomForestClassifier()"
      ]
     },
     "execution_count": 73,
     "metadata": {},
     "output_type": "execute_result"
    }
   ],
   "source": [
    "RF.fit(x_new_train,y_new_train)"
   ]
  },
  {
   "cell_type": "markdown",
   "id": "68f64eef",
   "metadata": {},
   "source": [
    "## <b> <font color=blue>Using Model in Validation Data</font></n>"
   ]
  },
  {
   "cell_type": "code",
   "execution_count": 74,
   "id": "572de7ed",
   "metadata": {},
   "outputs": [],
   "source": [
    "y_val_pred=RF.predict(x_val)"
   ]
  },
  {
   "cell_type": "markdown",
   "id": "878d4dd1",
   "metadata": {},
   "source": [
    "<b><font color=red>Classification Report</font></b>"
   ]
  },
  {
   "cell_type": "code",
   "execution_count": 76,
   "id": "c60302fa",
   "metadata": {},
   "outputs": [
    {
     "name": "stdout",
     "output_type": "stream",
     "text": [
      "              precision    recall  f1-score   support\n",
      "\n",
      "           0       1.00      0.99      0.99    127426\n",
      "           1       0.99      1.00      0.99    126751\n",
      "\n",
      "    accuracy                           0.99    254177\n",
      "   macro avg       0.99      0.99      0.99    254177\n",
      "weighted avg       0.99      0.99      0.99    254177\n",
      "\n"
     ]
    }
   ],
   "source": [
    "clf_rep=classification_report(y_val,y_val_pred)\n",
    "print(clf_rep)"
   ]
  },
  {
   "cell_type": "markdown",
   "id": "d9367db1",
   "metadata": {},
   "source": [
    "<b><font color=red>Confusion Matrix</font></b>"
   ]
  },
  {
   "cell_type": "code",
   "execution_count": 77,
   "id": "7a838f1b",
   "metadata": {},
   "outputs": [
    {
     "data": {
      "text/plain": [
       "array([[125871,   1555],\n",
       "       [     0, 126751]], dtype=int64)"
      ]
     },
     "execution_count": 77,
     "metadata": {},
     "output_type": "execute_result"
    }
   ],
   "source": [
    "mat=confusion_matrix(y_val,y_val_pred)\n",
    "mat"
   ]
  },
  {
   "cell_type": "markdown",
   "id": "286b785d",
   "metadata": {},
   "source": [
    "<b>Observation<b>:-\n",
    "* Model perfomed well with the <b>Accuracy of <font color=green>99%</font></b> in the <b>Validation Data</b>."
   ]
  },
  {
   "cell_type": "markdown",
   "id": "eaf52761",
   "metadata": {},
   "source": [
    "## <b> <font color=blue>Using Model in Test Data</font></n>"
   ]
  },
  {
   "cell_type": "code",
   "execution_count": 78,
   "id": "ff21bf04",
   "metadata": {},
   "outputs": [],
   "source": [
    "y_test_pred=RF.predict(x_test)"
   ]
  },
  {
   "cell_type": "markdown",
   "id": "999379a1",
   "metadata": {},
   "source": [
    "<b><font color=red>Classification Report</font></b>"
   ]
  },
  {
   "cell_type": "code",
   "execution_count": 79,
   "id": "1f9e4d7a",
   "metadata": {},
   "outputs": [
    {
     "name": "stdout",
     "output_type": "stream",
     "text": [
      "              precision    recall  f1-score   support\n",
      "\n",
      "           0       1.00      0.99      0.99   5718473\n",
      "           1       0.99      1.00      0.99   5719460\n",
      "\n",
      "    accuracy                           0.99  11437933\n",
      "   macro avg       0.99      0.99      0.99  11437933\n",
      "weighted avg       0.99      0.99      0.99  11437933\n",
      "\n"
     ]
    }
   ],
   "source": [
    "clf_rep=classification_report(y_test,y_test_pred)\n",
    "print(clf_rep)"
   ]
  },
  {
   "cell_type": "markdown",
   "id": "bd4903e7",
   "metadata": {},
   "source": [
    "<b><font color=red>Confusion Matrix</font></b>"
   ]
  },
  {
   "cell_type": "code",
   "execution_count": 80,
   "id": "be36da1e",
   "metadata": {},
   "outputs": [
    {
     "data": {
      "text/plain": [
       "array([[5647575,   70898],\n",
       "       [      0, 5719460]], dtype=int64)"
      ]
     },
     "execution_count": 80,
     "metadata": {},
     "output_type": "execute_result"
    }
   ],
   "source": [
    "mat=confusion_matrix(y_test,y_test_pred)\n",
    "mat"
   ]
  },
  {
   "cell_type": "markdown",
   "id": "43a77331",
   "metadata": {},
   "source": [
    "<b>Observation<b>:-\n",
    "* Model perfomed well with the <b>Accuracy of <font color=green>99%</font></b> in the <b>Test Data</b>."
   ]
  },
  {
   "cell_type": "markdown",
   "id": "569d2f35",
   "metadata": {},
   "source": [
    "## Using Model in Actual Data"
   ]
  },
  {
   "cell_type": "code",
   "execution_count": 81,
   "id": "3a3ea790",
   "metadata": {},
   "outputs": [],
   "source": [
    "y_pred=RF.predict(x_real)"
   ]
  },
  {
   "cell_type": "markdown",
   "id": "e8147f35",
   "metadata": {},
   "source": [
    "<b><font color=red>Classification Report</font></b>"
   ]
  },
  {
   "cell_type": "code",
   "execution_count": 82,
   "id": "499f9d4a",
   "metadata": {},
   "outputs": [
    {
     "name": "stdout",
     "output_type": "stream",
     "text": [
      "              precision    recall  f1-score   support\n",
      "\n",
      "           0       1.00      0.99      0.99   6354407\n",
      "           1       0.10      1.00      0.18      8213\n",
      "\n",
      "    accuracy                           0.99   6362620\n",
      "   macro avg       0.55      0.99      0.59   6362620\n",
      "weighted avg       1.00      0.99      0.99   6362620\n",
      "\n"
     ]
    }
   ],
   "source": [
    "clf_rep=classification_report(y_real,y_pred)\n",
    "print(clf_rep)"
   ]
  },
  {
   "cell_type": "markdown",
   "id": "4473173b",
   "metadata": {},
   "source": [
    "<b><font color=red>Confusion Matrix</font></b>"
   ]
  },
  {
   "cell_type": "code",
   "execution_count": 83,
   "id": "192028b9",
   "metadata": {},
   "outputs": [
    {
     "data": {
      "text/plain": [
       "array([[6281656,   72751],\n",
       "       [      0,    8213]], dtype=int64)"
      ]
     },
     "execution_count": 83,
     "metadata": {},
     "output_type": "execute_result"
    }
   ],
   "source": [
    "mat=confusion_matrix(y_real,y_pred)\n",
    "mat"
   ]
  },
  {
   "cell_type": "markdown",
   "id": "bb061659",
   "metadata": {},
   "source": [
    "<b>Observation<b>:-\n",
    "* Model perfomed well with the <b>Accuracy of <font color=green>99%</font></b> in the <b>Actual Data</b>."
   ]
  },
  {
   "cell_type": "markdown",
   "id": "2ad3f4d9",
   "metadata": {},
   "source": [
    "# Candidate Expectations"
   ]
  },
  {
   "cell_type": "markdown",
   "id": "6c7389bb",
   "metadata": {},
   "source": [
    "### Answering the following questions."
   ]
  },
  {
   "cell_type": "markdown",
   "id": "36819d81",
   "metadata": {},
   "source": [
    "1. <b>Data cleaning including missing values, outliers and multi-collinearity.</b>\n",
    "    * <font color=red>There were no missing or duplicate values present in the dataset.</font>\n",
    "    "
   ]
  },
  {
   "cell_type": "markdown",
   "id": "bf31fcda",
   "metadata": {},
   "source": [
    "2. <b>Describe your fraud detection model in elaboration.</b>\n",
    "    * <font color=red>The classification algorithm used in this data is called Random Forest Classifier.</font>\n",
    "    * <font color=red>Random forests is an ensemble learning method for classification, regression and other tasks that operates by constructing a multitude of decision trees at training time. For classification tasks, the output of the random forest is the class selected by most trees.</font>\n",
    "    * <font color=red>The output/prediction will be in 2 classes:-</font>\n",
    "        * <font color=red>1 (Fraud) and 0 (Non-Fraud)</font>"
   ]
  },
  {
   "cell_type": "markdown",
   "id": "a9e77ad2",
   "metadata": {},
   "source": [
    "3. <b>How did you select variables to be included in the model?</b>\n",
    "    * <font color=red>In these 10 columns:-</font>\n",
    "        * <font color=red>There were only 3 useful independent variables:-</font>\n",
    "            1. <font color=red> amount</font>\n",
    "            2. <font color=red>isFlaggedFraud</font>\n",
    "            3. <font color=red>type</font>\n",
    "            \n",
    "    * <font color=red> Rest of the columns were not useful for the model.</font>"
   ]
  },
  {
   "cell_type": "markdown",
   "id": "2512ba06",
   "metadata": {},
   "source": [
    "4. <b>Demonstrate the performance of the model by using best set of tools.</b>\n",
    "    * <font color=red>The model has <b><font color=blue>accuracy of 99%</font></b> in the <b><font color=blue>Validation data</font></b>.</font>\n",
    "        * <b>Confusion matrix</b>\n",
    "            * [125871,   1555]<br>\n",
    "               [0   ,    126751]\n",
    "    * <font color=red>The model has <b><font color=blue>accuracy of 99%</font></b> in the <b><font color=blue>Test data</font></b> also.</font>\n",
    "        * <b>Confusion matrix</b>\n",
    "            * [5647575,   70898]<br>\n",
    "               [0  ,      5719460]"
   ]
  },
  {
   "cell_type": "markdown",
   "id": "e285a052",
   "metadata": {},
   "source": [
    "5. What are the key factors that predict fraudulent customer?\n",
    "    * <font color=red>The key factors on predicting the fraudulent customer were:-</font>\n",
    "        * <font color=red><b>Type</b> of transactions:-</font>\n",
    "            1. <font color=red>CASH_OUT</font>\n",
    "            2. <font color=red>PAYMENT</font>\n",
    "            3. <font color=red>CASH_IN</font>\n",
    "            4. <font color=red>TRANSFER</font>\n",
    "            5. <font color=red>DEBIT</font>\n",
    "            \n",
    "        * <font color=red>Transactions that were flagged fraud.</font>\n",
    "        * <font color=red>The transaction amount.</font>\n"
   ]
  },
  {
   "cell_type": "markdown",
   "id": "b09c6eb5",
   "metadata": {},
   "source": [
    "6. <b>Do these factors make sense? If yes, How? If not, How not?</b>\n",
    "    * <font color=red>No, these factors don't really makes sense because:-</font>\n",
    "        * <font color=red>All of the 3 independent features were not correlated to the dependent feature.</font>\n",
    "        \n",
    "        "
   ]
  },
  {
   "cell_type": "markdown",
   "id": "4bfff15e",
   "metadata": {},
   "source": [
    "7. <b>What kind of prevention should be adopted while company update its infrastructure?</b>\n",
    "    * <font color=red>At this point, I am not sure about the actual preventions required.</font>"
   ]
  },
  {
   "cell_type": "markdown",
   "id": "0f555a6a",
   "metadata": {},
   "source": [
    "8. <b>Assuming these actions have been implemented, how would you determine if they work?</b>\n",
    "    * <font color=red>The answer is same as the previous one.</font>"
   ]
  }
 ],
 "metadata": {
  "kernelspec": {
   "display_name": "Python 3 (ipykernel)",
   "language": "python",
   "name": "python3"
  },
  "language_info": {
   "codemirror_mode": {
    "name": "ipython",
    "version": 3
   },
   "file_extension": ".py",
   "mimetype": "text/x-python",
   "name": "python",
   "nbconvert_exporter": "python",
   "pygments_lexer": "ipython3",
   "version": "3.9.5"
  }
 },
 "nbformat": 4,
 "nbformat_minor": 5
}
